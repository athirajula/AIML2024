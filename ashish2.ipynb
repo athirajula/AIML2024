{
  "nbformat": 4,
  "nbformat_minor": 0,
  "metadata": {
    "colab": {
      "provenance": []
    },
    "kernelspec": {
      "name": "python3",
      "display_name": "Python 3"
    },
    "language_info": {
      "name": "python"
    }
  },
  "cells": [
    {
      "cell_type": "code",
      "execution_count": 2,
      "metadata": {
        "id": "AKUlZmr05Ld2",
        "outputId": "99ad54d7-79f0-4a3e-e40e-c9c3bd8d1c3b",
        "colab": {
          "base_uri": "https://localhost:8080/"
        }
      },
      "outputs": [
        {
          "output_type": "stream",
          "name": "stdout",
          "text": [
            "NumPy sin(): [0.84147098 0.90929743 0.14112001]\n",
            "\n",
            "NumPy log(): [0.         0.69314718 1.09861229]\n",
            "\n",
            "NumPy log2(): [0.        1.        1.5849625]\n",
            "\n",
            "NumPy exp(): [ 2.71828183  7.3890561  20.08553692]\n"
          ]
        }
      ],
      "source": [
        "import numpy as np\n",
        "\n",
        "# NumPy array\n",
        "my_array = np.array([1, 2, 3])\n",
        "\n",
        "# Sine function\n",
        "result_sin = np.sin(my_array)\n",
        "print(\"NumPy sin():\", result_sin)\n",
        "\n",
        "# Natural logarithm\n",
        "result_log = np.log(my_array)\n",
        "print(\"\\nNumPy log():\", result_log)\n",
        "\n",
        "# Base-2 logarithm\n",
        "result_log2 = np.log2(my_array)\n",
        "print(\"\\nNumPy log2():\", result_log2)\n",
        "\n",
        "# Exponential function (e^x)\n",
        "result_exp = np.exp(my_array)\n",
        "print(\"\\nNumPy exp():\", result_exp)"
      ]
    }
  ]
}